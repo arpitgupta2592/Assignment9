{
 "cells": [
  {
   "cell_type": "code",
   "execution_count": null,
   "metadata": {},
   "outputs": [],
   "source": [
    "'''1. You survey households in your area to find the average rent they are paying. Find the\n",
    "standard deviation from the following data: $1550, $1700, $900, $850, $1000, $950.'''"
   ]
  },
  {
   "cell_type": "code",
   "execution_count": 1,
   "metadata": {},
   "outputs": [],
   "source": [
    "import statistics"
   ]
  },
  {
   "cell_type": "code",
   "execution_count": 2,
   "metadata": {},
   "outputs": [],
   "source": [
    "avg_rent_data=[1550, 1700, 900, 850, 1000, 950]"
   ]
  },
  {
   "cell_type": "code",
   "execution_count": 4,
   "metadata": {},
   "outputs": [
    {
     "name": "stdout",
     "output_type": "stream",
     "text": [
      "Standard Deviation of Average rent data is: 367.9900360969936\n"
     ]
    }
   ],
   "source": [
    "print('Standard Deviation of Average rent data is:', statistics.stdev(avg_rent_data))"
   ]
  },
  {
   "cell_type": "code",
   "execution_count": null,
   "metadata": {},
   "outputs": [],
   "source": [
    "'''2. Find the variance for the following set of data representing trees in California (heights in\n",
    "feet):\n",
    "3, 21, 98, 203, 17, 9'''"
   ]
  },
  {
   "cell_type": "code",
   "execution_count": 7,
   "metadata": {},
   "outputs": [],
   "source": [
    "height_trees_in_california=[3, 21, 98, 203, 17, 9]"
   ]
  },
  {
   "cell_type": "code",
   "execution_count": 8,
   "metadata": {},
   "outputs": [
    {
     "name": "stdout",
     "output_type": "stream",
     "text": [
      "Variance height trees in california: 6219.9\n"
     ]
    }
   ],
   "source": [
    "print('Variance height trees in california:', statistics.variance(height_trees_in_california))"
   ]
  },
  {
   "cell_type": "code",
   "execution_count": null,
   "metadata": {},
   "outputs": [],
   "source": [
    "'''3 ) In a class on 100 students, 80 students passed in all subjects, 10 failed in one subject, 7 failed\n",
    "in two subjects and 3 failed in three subjects. Find the probability distribution of the variable for\n",
    "number of subjects a student from the given class has failed in.'''"
   ]
  },
  {
   "cell_type": "code",
   "execution_count": 30,
   "metadata": {},
   "outputs": [],
   "source": [
    "import matplotlib.pyplot as plt\n",
    "import numpy as np"
   ]
  },
  {
   "cell_type": "code",
   "execution_count": 19,
   "metadata": {},
   "outputs": [],
   "source": [
    "tot_students=100\n",
    "passed_all=80\n",
    "failed_one=10\n",
    "failed_two=7\n",
    "failed_three=3"
   ]
  },
  {
   "cell_type": "code",
   "execution_count": 25,
   "metadata": {},
   "outputs": [],
   "source": [
    "p_failed_none=passed_all/tot_students\n",
    "p_failed_one=failed_one/tot_students\n",
    "p_failed_two=failed_two/tot_students\n",
    "p_failed_three=failed_three/tot_students\n"
   ]
  },
  {
   "cell_type": "code",
   "execution_count": 26,
   "metadata": {},
   "outputs": [
    {
     "name": "stdout",
     "output_type": "stream",
     "text": [
      "Probaility of failing in zero subjects: 0.8\n",
      "Probaility of failing in one subject: 0.1\n",
      "Probaility of failing in two subjects: 0.07\n",
      "Probaility of failing in three subjects: 0.03\n"
     ]
    }
   ],
   "source": [
    "print('Probaility of failing in zero subjects:', p_failed_none)\n",
    "print('Probaility of failing in one subject:', p_failed_one)\n",
    "print('Probaility of failing in two subjects:', p_failed_two)\n",
    "print('Probaility of failing in three subjects:', p_failed_three)"
   ]
  },
  {
   "cell_type": "code",
   "execution_count": 32,
   "metadata": {},
   "outputs": [
    {
     "data": {
      "text/plain": [
       "Text(0.5, 1.0, 'PDF/CDF of students according to subjects passed')"
      ]
     },
     "execution_count": 32,
     "metadata": {},
     "output_type": "execute_result"
    },
    {
     "data": {
      "image/png": "[encoded data removed]",
      "text/plain": [
       "<Figure size 864x576 with 1 Axes>"
      ]
     },
     "metadata": {
      "needs_background": "light"
     },
     "output_type": "display_data"
    }
   ],
   "source": [
    "x = [p_failed_none,p_failed_one,p_failed_two,p_failed_three]\n",
    "counts, bin_edges = np.histogram(x, bins=10, density= True)\n",
    "pdf = counts/(sum(counts))\n",
    "cdf = np.cumsum(pdf)\n",
    "\n",
    "plt.figure(figsize=(12,8))\n",
    "\n",
    "plt.subplot(1, 2, 1)\n",
    "plt.plot(bin_edges[1:], pdf,label=\"PDF\")\n",
    "plt.plot(bin_edges[1:], cdf,label=\"CDF\")\n",
    "plt.legend()\n",
    "plt.tight_layout()\n",
    "plt.title(\"PDF/CDF of students according to subjects passed\")"
   ]
  },
  {
   "cell_type": "code",
   "execution_count": 38,
   "metadata": {},
   "outputs": [],
   "source": [
    "from scipy.stats import binom\n",
    "import math"
   ]
  },
  {
   "cell_type": "code",
   "execution_count": null,
   "metadata": {},
   "outputs": [],
   "source": [
    "'''4) A test is conducted which is consisting of 20 MCQs (multiple choices questions) with every\n",
    "MCQ having its four options out of which only one is correct. Determine the probability that a\n",
    "person undertaking that test has answered exactly 5 questions wrong.'''"
   ]
  },
  {
   "cell_type": "code",
   "execution_count": 42,
   "metadata": {},
   "outputs": [],
   "source": [
    "total_mcq=20\n",
    "failuers=5\n",
    "k=15\n",
    "\n",
    "prob_of_success=failuers/total_mcq\n",
    "prob_of_failure=1-prob_of_success"
   ]
  },
  {
   "cell_type": "code",
   "execution_count": 45,
   "metadata": {},
   "outputs": [],
   "source": [
    "P=(math.factorial(total_mcq)/(math.factorial(k)*math.factorial(total_mcq-k)))*np.power(prob_of_success,k)*np.power(prob_of_failure,failuers)"
   ]
  },
  {
   "cell_type": "code",
   "execution_count": 48,
   "metadata": {},
   "outputs": [
    {
     "name": "stdout",
     "output_type": "stream",
     "text": [
      "Probability of exactly 5 out of 20 answers incorrect is 0.00000343\n"
     ]
    }
   ],
   "source": [
    "print('Probability of exactly 5 out of 20 answers incorrect is {:0.8f}'.format(P))"
   ]
  },
  {
   "cell_type": "code",
   "execution_count": null,
   "metadata": {},
   "outputs": [],
   "source": [
    "'''2. A die marked A to E is rolled 50 times. Find the probability of getting a “D” exactly 5 times.'''"
   ]
  },
  {
   "cell_type": "code",
   "execution_count": 49,
   "metadata": {},
   "outputs": [
    {
     "name": "stdout",
     "output_type": "stream",
     "text": [
      "Probability of etting a “D” exactly 5 times out of 50 trials: 0.2\n"
     ]
    }
   ],
   "source": [
    "n=50\n",
    "k=5\n",
    "failuers=n-k\n",
    "\n",
    "p_of_success=1/k\n",
    "\n",
    "\n",
    "print('Probability of getting a “D” exactly 5 times out of 50 trials:', p_of_success)"
   ]
  },
  {
   "cell_type": "code",
   "execution_count": null,
   "metadata": {},
   "outputs": [],
   "source": [
    "''' 3. Two balls are drawn at random in succession without replacement from an urn containing 4\n",
    "red balls and 6 black balls.\n",
    "\n",
    "Find the probabilities of all the possible outcomes.'''"
   ]
  },
  {
   "cell_type": "code",
   "execution_count": 50,
   "metadata": {},
   "outputs": [],
   "source": [
    "red_ball = 4\n",
    "black_ball = 6\n",
    "total_balls = red_ball + black_ball\n"
   ]
  },
  {
   "cell_type": "code",
   "execution_count": 52,
   "metadata": {},
   "outputs": [],
   "source": [
    "p_first_red_ball = red_ball / total_balls\n",
    "p_second_black_ball  = black_ball / (total_balls - 1)\n",
    "p_first_black_ball = black_ball / total_balls\n",
    "p_second_red_ball  = red_ball / (total_balls - 1)"
   ]
  },
  {
   "cell_type": "code",
   "execution_count": 53,
   "metadata": {},
   "outputs": [],
   "source": [
    "P_2_r  = (math.factorial(red_ball) / (math.factorial(2) * math.factorial(red_ball - 2))) / (math.factorial(total_balls) / math.factorial(2)* math.factorial(total_balls - 2))\n"
   ]
  },
  {
   "cell_type": "code",
   "execution_count": 57,
   "metadata": {},
   "outputs": [],
   "source": [
    "P_2_b  = (math.factorial(black_ball) / (math.factorial(2) * math.factorial(black_ball -2))) / (math.factorial(total_balls) / math.factorial(2)* math.factorial(total_balls - 2))"
   ]
  },
  {
   "cell_type": "code",
   "execution_count": 58,
   "metadata": {},
   "outputs": [
    {
     "name": "stdout",
     "output_type": "stream",
     "text": [
      "The probabilities of all possible outcomes of picking Red ball first,Black Ball second is (0.40,0.67)\n"
     ]
    }
   ],
   "source": [
    "print(\"The probabilities of all possible outcomes of picking Red ball first,Black Ball second is ({:0.2f},{:0.2f})\".format(p_first_red_ball,p_second_black_ball))"
   ]
  },
  {
   "cell_type": "code",
   "execution_count": 59,
   "metadata": {},
   "outputs": [
    {
     "name": "stdout",
     "output_type": "stream",
     "text": [
      "The probabilities of all possible outcomes of picking black ball first,red Ball second is (0.60,0.44)\n"
     ]
    }
   ],
   "source": [
    "print(\"The probabilities of all possible outcomes of picking black ball first,red Ball second is ({:0.2f},{:0.2f})\".format(p_first_black_ball,p_second_red_ball))"
   ]
  },
  {
   "cell_type": "code",
   "execution_count": 60,
   "metadata": {},
   "outputs": [
    {
     "name": "stdout",
     "output_type": "stream",
     "text": [
      "The probabilities of all possible outcomes of picking both the balls as black is 0.0000000002\n"
     ]
    }
   ],
   "source": [
    "print(\"The probabilities of all possible outcomes of picking both the balls as black is {:0.10f}\".format(P_2_b))"
   ]
  },
  {
   "cell_type": "code",
   "execution_count": 61,
   "metadata": {},
   "outputs": [
    {
     "name": "stdout",
     "output_type": "stream",
     "text": [
      "The probabilities of all possible outcomes of picking both the balls as red is 0.0000000001\n"
     ]
    }
   ],
   "source": [
    "print(\"The probabilities of all possible outcomes of picking both the balls as red is {:0.10f}\".format(P_2_r))"
   ]
  },
  {
   "cell_type": "code",
   "execution_count": null,
   "metadata": {},
   "outputs": [],
   "source": []
  }
 ],
 "metadata": {
  "kernelspec": {
   "display_name": "Python 3",
   "language": "python",
   "name": "python3"
  },
  "language_info": {
   "codemirror_mode": {
    "name": "ipython",
    "version": 3
   },
   "file_extension": ".py",
   "mimetype": "text/x-python",
   "name": "python",
   "nbconvert_exporter": "python",
   "pygments_lexer": "ipython3",
   "version": "3.7.1"
  }
 },
 "nbformat": 4,
 "nbformat_minor": 2
}
